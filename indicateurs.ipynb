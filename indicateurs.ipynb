{
 "metadata": {
  "language_info": {
   "codemirror_mode": {
    "name": "ipython",
    "version": 3
   },
   "file_extension": ".py",
   "mimetype": "text/x-python",
   "name": "python",
   "nbconvert_exporter": "python",
   "pygments_lexer": "ipython3",
   "version": "3.8.5-final"
  },
  "orig_nbformat": 2,
  "kernelspec": {
   "name": "python3",
   "display_name": "Python 3",
   "language": "python"
  }
 },
 "nbformat": 4,
 "nbformat_minor": 2,
 "cells": [
  {
   "cell_type": "code",
   "execution_count": 7,
   "metadata": {},
   "outputs": [],
   "source": [
    "import pandas as pd\n",
    "import matplotlib\n",
    "import matplotlib.pyplot as plt \n",
    "import numpy as np\n",
    "from datetime import datetime\n",
    "from datetime import timedelta\n",
    "from struct import unpack\n",
    "\n",
    "url = \"https://www.data.gouv.fr/fr/datasets/r/4acad602-d8b1-4516-bc71-7d5574d5f33e\"\n",
    "csv = pd.read_csv(url, delimiter=',', parse_dates=['extract_date'])"
   ]
  },
  {
   "cell_type": "code",
   "execution_count": 12,
   "metadata": {},
   "outputs": [
    {
     "output_type": "stream",
     "name": "stdout",
     "text": [
      "<class 'pandas.core.frame.DataFrame'>\nRangeIndex: 29593 entries, 0 to 29592\nData columns (total 15 columns):\n #   Column                       Non-Null Count  Dtype         \n---  ------                       --------------  -----         \n 0   extract_date                 29593 non-null  datetime64[ns]\n 1   departement                  29593 non-null  object        \n 2   region                       29593 non-null  int64         \n 3   libelle_reg                  29593 non-null  object        \n 4   libelle_dep                  29593 non-null  object        \n 5   tx_incid                     23634 non-null  float64       \n 6   R                            4947 non-null   float64       \n 7   taux_occupation_sae          29593 non-null  float64       \n 8   tx_pos                       23028 non-null  float64       \n 9   tx_incid_couleur             23634 non-null  object        \n 10  R_couleur                    4947 non-null   object        \n 11  taux_occupation_sae_couleur  29593 non-null  object        \n 12  tx_pos_couleur               23028 non-null  object        \n 13  nb_orange                    29593 non-null  int64         \n 14  nb_rouge                     29593 non-null  int64         \ndtypes: datetime64[ns](1), float64(4), int64(3), object(7)\nmemory usage: 3.4+ MB\n"
     ]
    }
   ],
   "source": [
    "csv.info()"
   ]
  },
  {
   "cell_type": "code",
   "execution_count": null,
   "metadata": {},
   "outputs": [],
   "source": []
  }
 ]
}